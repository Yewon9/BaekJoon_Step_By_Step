{
  "nbformat": 4,
  "nbformat_minor": 0,
  "metadata": {
    "colab": {
      "provenance": []
    },
    "kernelspec": {
      "name": "python3",
      "display_name": "Python 3"
    },
    "language_info": {
      "name": "python"
    }
  },
  "cells": [
    {
      "cell_type": "code",
      "source": [
        "year = int(input())\n",
        "\n",
        "if 1 <= year <= 4000:\n",
        "  if year % 4 == 0:\n",
        "    if year % 100 != 0:\n",
        "      print(1)\n",
        "    elif year % 400 == 0:\n",
        "      print(1)\n",
        "    else:\n",
        "      print(0)\n",
        "  else:\n",
        "    print(0)"
      ],
      "metadata": {
        "colab": {
          "base_uri": "https://localhost:8080/"
        },
        "id": "6_wuWYiuWP9w",
        "outputId": "c6f7c373-384f-4a5e-a181-bbca0e4fa915"
      },
      "execution_count": 6,
      "outputs": [
        {
          "output_type": "stream",
          "name": "stdout",
          "text": [
            "1999\n",
            "0\n"
          ]
        }
      ]
    }
  ]
}