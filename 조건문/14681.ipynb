{
  "nbformat": 4,
  "nbformat_minor": 0,
  "metadata": {
    "colab": {
      "provenance": []
    },
    "kernelspec": {
      "name": "python3",
      "display_name": "Python 3"
    },
    "language_info": {
      "name": "python"
    }
  },
  "cells": [
    {
      "cell_type": "code",
      "source": [
        "x = int(input())\n",
        "y = int(input())\n",
        "\n",
        "if -1000 <= x <= 1000 and x != 0:\n",
        "  if -1000 <= y <= 1000 and y != 0:\n",
        "    if x >0 and y > 0:\n",
        "      print(1)\n",
        "    elif x < 0 and y > 0:\n",
        "      print(2)\n",
        "    elif x < 0 and y < 0:\n",
        "      print(3)\n",
        "    else:\n",
        "      print(4)"
      ],
      "metadata": {
        "colab": {
          "base_uri": "https://localhost:8080/"
        },
        "id": "6_wuWYiuWP9w",
        "outputId": "1525d010-008c-409b-83f4-999434548122"
      },
      "execution_count": 9,
      "outputs": [
        {
          "output_type": "stream",
          "name": "stdout",
          "text": [
            "9\n",
            "-13\n",
            "4\n"
          ]
        }
      ]
    }
  ]
}