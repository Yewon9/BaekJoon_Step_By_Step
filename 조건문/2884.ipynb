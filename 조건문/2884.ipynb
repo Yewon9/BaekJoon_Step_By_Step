{
  "nbformat": 4,
  "nbformat_minor": 0,
  "metadata": {
    "colab": {
      "provenance": []
    },
    "kernelspec": {
      "name": "python3",
      "display_name": "Python 3"
    },
    "language_info": {
      "name": "python"
    }
  },
  "cells": [
    {
      "cell_type": "code",
      "source": [
        "H, M = input().split()\n",
        "H, M = int(H), int(M)\n",
        "\n",
        "if 0<=H<=23 and 0<=M<=59:\n",
        "    if H==0 and M<45:\n",
        "        print(23, M-45+60)\n",
        "    elif 0<H<=23 and M<45:\n",
        "        print(H-1, M-45+60)\n",
        "    else:\n",
        "        print(H, M-45)"
      ],
      "metadata": {
        "colab": {
          "base_uri": "https://localhost:8080/"
        },
        "id": "6_wuWYiuWP9w",
        "outputId": "02efb1fe-6203-46d9-ad45-53979d707c6a"
      },
      "execution_count": 16,
      "outputs": [
        {
          "output_type": "stream",
          "name": "stdout",
          "text": [
            "0 30\n",
            "23 45\n"
          ]
        }
      ]
    }
  ]
}