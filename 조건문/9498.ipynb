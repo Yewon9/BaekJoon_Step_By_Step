{
  "nbformat": 4,
  "nbformat_minor": 0,
  "metadata": {
    "colab": {
      "provenance": []
    },
    "kernelspec": {
      "name": "python3",
      "display_name": "Python 3"
    },
    "language_info": {
      "name": "python"
    }
  },
  "cells": [
    {
      "cell_type": "code",
      "source": [
        "score = int(input())\n",
        "\n",
        "if 0 <= score <= 100:\n",
        "  if 90 <= score <= 100:\n",
        "    print('A')\n",
        "  elif 80 <= score <= 89:\n",
        "    print('B')\n",
        "  elif 70 <= score <= 79:\n",
        "    print('C')\n",
        "  elif 60 <= score <= 69:\n",
        "    print('D')\n",
        "  else:\n",
        "    print('F')"
      ],
      "metadata": {
        "colab": {
          "base_uri": "https://localhost:8080/"
        },
        "id": "6_wuWYiuWP9w",
        "outputId": "99fb6a86-b0a5-43d6-d290-48a1cb24b8e2"
      },
      "execution_count": 3,
      "outputs": [
        {
          "output_type": "stream",
          "name": "stdout",
          "text": [
            "100\n",
            "A\n"
          ]
        }
      ]
    }
  ]
}