{
  "nbformat": 4,
  "nbformat_minor": 0,
  "metadata": {
    "colab": {
      "provenance": []
    },
    "kernelspec": {
      "name": "python3",
      "display_name": "Python 3"
    },
    "language_info": {
      "name": "python"
    }
  },
  "cells": [
    {
      "cell_type": "code",
      "source": [
        "A, B = input().split()\n",
        "A, B = int(A), int(B)\n",
        "\n",
        "if 1 < A < 10000 and 1 < B < 10000:\n",
        "  print(A + B)\n",
        "  print(A - B)\n",
        "  print(A * B)\n",
        "  print(A // B)\n",
        "  print(A % B)"
      ],
      "metadata": {
        "colab": {
          "base_uri": "https://localhost:8080/"
        },
        "id": "6_wuWYiuWP9w",
        "outputId": "6cc4822f-b1b6-4227-f9a6-f8bbdea503dc"
      },
      "execution_count": 20,
      "outputs": [
        {
          "output_type": "stream",
          "name": "stdout",
          "text": [
            "7 3\n",
            "10\n",
            "4\n",
            "21\n",
            "2\n",
            "1\n"
          ]
        }
      ]
    }
  ]
}