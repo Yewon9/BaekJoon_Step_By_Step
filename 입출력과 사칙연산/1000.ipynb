{
  "nbformat": 4,
  "nbformat_minor": 0,
  "metadata": {
    "colab": {
      "provenance": []
    },
    "kernelspec": {
      "name": "python3",
      "display_name": "Python 3"
    },
    "language_info": {
      "name": "python"
    }
  },
  "cells": [
    {
      "cell_type": "code",
      "source": [
        "A, B = input().split()\n",
        "A, B = int(A), int(B)\n",
        "\n",
        "if 0 < A < 10 and 0 < B < 10:\n",
        "  print(A + B)"
      ],
      "metadata": {
        "colab": {
          "base_uri": "https://localhost:8080/"
        },
        "id": "6_wuWYiuWP9w",
        "outputId": "f2d5b609-6512-4a05-c6fe-f02e059e06d5"
      },
      "execution_count": 13,
      "outputs": [
        {
          "output_type": "stream",
          "name": "stdout",
          "text": [
            "1 2\n",
            "3\n"
          ]
        }
      ]
    }
  ]
}