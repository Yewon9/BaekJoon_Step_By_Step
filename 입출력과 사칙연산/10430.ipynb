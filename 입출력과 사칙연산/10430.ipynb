{
  "nbformat": 4,
  "nbformat_minor": 0,
  "metadata": {
    "colab": {
      "provenance": []
    },
    "kernelspec": {
      "name": "python3",
      "display_name": "Python 3"
    },
    "language_info": {
      "name": "python"
    }
  },
  "cells": [
    {
      "cell_type": "code",
      "source": [
        "A, B, C = input().split()\n",
        "A, B, C = int(A), int(B), int(C)\n",
        "\n",
        "print((A + B) % C)\n",
        "print(((A % C) + (B % C)) % C)\n",
        "print((A * B) % C)\n",
        "print(((A % C) * (B % C)) % C)"
      ],
      "metadata": {
        "colab": {
          "base_uri": "https://localhost:8080/"
        },
        "id": "6_wuWYiuWP9w",
        "outputId": "72740fce-327e-47ec-fc8e-6b6ddb9e71bc"
      },
      "execution_count": 25,
      "outputs": [
        {
          "output_type": "stream",
          "name": "stdout",
          "text": [
            "5 8 4\n",
            "1\n",
            "1\n",
            "0\n",
            "0\n"
          ]
        }
      ]
    }
  ]
}