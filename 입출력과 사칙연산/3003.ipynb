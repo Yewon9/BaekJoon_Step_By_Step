{
  "nbformat": 4,
  "nbformat_minor": 0,
  "metadata": {
    "colab": {
      "provenance": []
    },
    "kernelspec": {
      "name": "python3",
      "display_name": "Python 3"
    },
    "language_info": {
      "name": "python"
    }
  },
  "cells": [
    {
      "cell_type": "code",
      "source": [
        "king, queen, rook, bishop, knight, pawn = input().split()\n",
        "king, queen, rook, bishop, knight, pawn = int(king), int(queen), int(rook), int(bishop), int(knight), int(pawn)\n",
        "\n",
        "print(1 - king, 1 - queen, 2 - rook, 2 - bishop, 2 - knight, 8 - pawn)"
      ],
      "metadata": {
        "colab": {
          "base_uri": "https://localhost:8080/"
        },
        "id": "6_wuWYiuWP9w",
        "outputId": "75aa09ee-e4f7-4020-c165-6f875325facb"
      },
      "execution_count": 24,
      "outputs": [
        {
          "output_type": "stream",
          "name": "stdout",
          "text": [
            "0 1 2 2 2 7\n",
            "1 0 0 0 0 1\n"
          ]
        }
      ]
    }
  ]
}