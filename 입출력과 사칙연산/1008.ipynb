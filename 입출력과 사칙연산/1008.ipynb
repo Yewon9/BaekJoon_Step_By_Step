{
  "nbformat": 4,
  "nbformat_minor": 0,
  "metadata": {
    "colab": {
      "provenance": []
    },
    "kernelspec": {
      "name": "python3",
      "display_name": "Python 3"
    },
    "language_info": {
      "name": "python"
    }
  },
  "cells": [
    {
      "cell_type": "code",
      "source": [
        "A, B = input().split()\n",
        "A, B = int(A), int(B)\n",
        "\n",
        "if 0 < A < 10 and 0 < B < 10:\n",
        "  print(A / B)"
      ],
      "metadata": {
        "colab": {
          "base_uri": "https://localhost:8080/"
        },
        "id": "6_wuWYiuWP9w",
        "outputId": "a709edbd-97e2-4483-fdf9-d3133021b3a2"
      },
      "execution_count": 17,
      "outputs": [
        {
          "output_type": "stream",
          "name": "stdout",
          "text": [
            "1 3\n",
            "0.3333333333333333\n"
          ]
        }
      ]
    }
  ]
}