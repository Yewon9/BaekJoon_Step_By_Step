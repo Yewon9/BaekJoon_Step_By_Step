{
  "nbformat": 4,
  "nbformat_minor": 0,
  "metadata": {
    "colab": {
      "provenance": []
    },
    "kernelspec": {
      "name": "python3",
      "display_name": "Python 3"
    },
    "language_info": {
      "name": "python"
    }
  },
  "cells": [
    {
      "cell_type": "code",
      "execution_count": 1,
      "metadata": {
        "colab": {
          "base_uri": "https://localhost:8080/"
        },
        "id": "orYzK2JBhNR_",
        "outputId": "8d7cef27-b755-43e1-8281-a94fc0b074d5"
      },
      "outputs": [
        {
          "output_type": "stream",
          "name": "stdout",
          "text": [
            "77 77 7777\n",
            "7931\n"
          ]
        }
      ],
      "source": [
        "A, B, C = input().split()\n",
        "A, B, C = int(A), int(B), int(C)\n",
        "\n",
        "print(A + B + C)"
      ]
    }
  ]
}